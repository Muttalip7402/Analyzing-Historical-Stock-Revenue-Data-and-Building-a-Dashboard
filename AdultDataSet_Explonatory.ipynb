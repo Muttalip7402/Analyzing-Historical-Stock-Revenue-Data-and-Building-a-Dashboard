{
  "nbformat": 4,
  "nbformat_minor": 0,
  "metadata": {
    "colab": {
      "provenance": [],
      "authorship_tag": "ABX9TyM+yAw1POJ6fMrV0ksR3wl1",
      "include_colab_link": true
    },
    "kernelspec": {
      "name": "python3",
      "display_name": "Python 3"
    },
    "language_info": {
      "name": "python"
    }
  },
  "cells": [
    {
      "cell_type": "markdown",
      "metadata": {
        "id": "view-in-github",
        "colab_type": "text"
      },
      "source": [
        "<a href=\"https://colab.research.google.com/github/Muttalip7402/Analyzing-Historical-Stock-Revenue-Data-and-Building-a-Dashboard/blob/main/AdultDataSet_Explonatory.ipynb\" target=\"_parent\"><img src=\"https://colab.research.google.com/assets/colab-badge.svg\" alt=\"Open In Colab\"/></a>"
      ]
    },
    {
      "cell_type": "code",
      "execution_count": 1,
      "metadata": {
        "id": "ETiIEMsMgPfz"
      },
      "outputs": [],
      "source": [
        "import pandas as pd\n",
        "import numpy as np\n",
        "import matplotlib.pyplot as plt\n",
        "import seaborn as sns\n",
        "df=pd.read_csv('adult.csv')"
      ]
    },
    {
      "cell_type": "code",
      "source": [
        "df.head()"
      ],
      "metadata": {
        "colab": {
          "base_uri": "https://localhost:8080/",
          "height": 444
        },
        "id": "hAStcYw3gcxu",
        "outputId": "8985e868-e19b-4b00-dc35-2119f890946f"
      },
      "execution_count": 2,
      "outputs": [
        {
          "output_type": "execute_result",
          "data": {
            "text/plain": [
              "   age          workclass  fnlwgt   education  educational-num  \\\n",
              "0   39          State-gov   77516   Bachelors               13   \n",
              "1   50   Self-emp-not-inc   83311   Bachelors               13   \n",
              "2   38            Private  215646     HS-grad                9   \n",
              "3   53            Private  234721        11th                7   \n",
              "4   28            Private  338409   Bachelors               13   \n",
              "\n",
              "        marital-status          occupation    relationship    race   gender  \\\n",
              "0        Never-married        Adm-clerical   Not-in-family   White     Male   \n",
              "1   Married-civ-spouse     Exec-managerial         Husband   White     Male   \n",
              "2             Divorced   Handlers-cleaners   Not-in-family   White     Male   \n",
              "3   Married-civ-spouse   Handlers-cleaners         Husband   Black     Male   \n",
              "4   Married-civ-spouse      Prof-specialty            Wife   Black   Female   \n",
              "\n",
              "   capital-gain  capital-loss  hours-per-week  native-country  income  \n",
              "0          2174             0              40   United-States   <=50K  \n",
              "1             0             0              13   United-States   <=50K  \n",
              "2             0             0              40   United-States   <=50K  \n",
              "3             0             0              40   United-States   <=50K  \n",
              "4             0             0              40            Cuba   <=50K  "
            ],
            "text/html": [
              "\n",
              "  <div id=\"df-bba5bff4-74d5-4e43-ae12-5a9622b6c845\">\n",
              "    <div class=\"colab-df-container\">\n",
              "      <div>\n",
              "<style scoped>\n",
              "    .dataframe tbody tr th:only-of-type {\n",
              "        vertical-align: middle;\n",
              "    }\n",
              "\n",
              "    .dataframe tbody tr th {\n",
              "        vertical-align: top;\n",
              "    }\n",
              "\n",
              "    .dataframe thead th {\n",
              "        text-align: right;\n",
              "    }\n",
              "</style>\n",
              "<table border=\"1\" class=\"dataframe\">\n",
              "  <thead>\n",
              "    <tr style=\"text-align: right;\">\n",
              "      <th></th>\n",
              "      <th>age</th>\n",
              "      <th>workclass</th>\n",
              "      <th>fnlwgt</th>\n",
              "      <th>education</th>\n",
              "      <th>educational-num</th>\n",
              "      <th>marital-status</th>\n",
              "      <th>occupation</th>\n",
              "      <th>relationship</th>\n",
              "      <th>race</th>\n",
              "      <th>gender</th>\n",
              "      <th>capital-gain</th>\n",
              "      <th>capital-loss</th>\n",
              "      <th>hours-per-week</th>\n",
              "      <th>native-country</th>\n",
              "      <th>income</th>\n",
              "    </tr>\n",
              "  </thead>\n",
              "  <tbody>\n",
              "    <tr>\n",
              "      <th>0</th>\n",
              "      <td>39</td>\n",
              "      <td>State-gov</td>\n",
              "      <td>77516</td>\n",
              "      <td>Bachelors</td>\n",
              "      <td>13</td>\n",
              "      <td>Never-married</td>\n",
              "      <td>Adm-clerical</td>\n",
              "      <td>Not-in-family</td>\n",
              "      <td>White</td>\n",
              "      <td>Male</td>\n",
              "      <td>2174</td>\n",
              "      <td>0</td>\n",
              "      <td>40</td>\n",
              "      <td>United-States</td>\n",
              "      <td>&lt;=50K</td>\n",
              "    </tr>\n",
              "    <tr>\n",
              "      <th>1</th>\n",
              "      <td>50</td>\n",
              "      <td>Self-emp-not-inc</td>\n",
              "      <td>83311</td>\n",
              "      <td>Bachelors</td>\n",
              "      <td>13</td>\n",
              "      <td>Married-civ-spouse</td>\n",
              "      <td>Exec-managerial</td>\n",
              "      <td>Husband</td>\n",
              "      <td>White</td>\n",
              "      <td>Male</td>\n",
              "      <td>0</td>\n",
              "      <td>0</td>\n",
              "      <td>13</td>\n",
              "      <td>United-States</td>\n",
              "      <td>&lt;=50K</td>\n",
              "    </tr>\n",
              "    <tr>\n",
              "      <th>2</th>\n",
              "      <td>38</td>\n",
              "      <td>Private</td>\n",
              "      <td>215646</td>\n",
              "      <td>HS-grad</td>\n",
              "      <td>9</td>\n",
              "      <td>Divorced</td>\n",
              "      <td>Handlers-cleaners</td>\n",
              "      <td>Not-in-family</td>\n",
              "      <td>White</td>\n",
              "      <td>Male</td>\n",
              "      <td>0</td>\n",
              "      <td>0</td>\n",
              "      <td>40</td>\n",
              "      <td>United-States</td>\n",
              "      <td>&lt;=50K</td>\n",
              "    </tr>\n",
              "    <tr>\n",
              "      <th>3</th>\n",
              "      <td>53</td>\n",
              "      <td>Private</td>\n",
              "      <td>234721</td>\n",
              "      <td>11th</td>\n",
              "      <td>7</td>\n",
              "      <td>Married-civ-spouse</td>\n",
              "      <td>Handlers-cleaners</td>\n",
              "      <td>Husband</td>\n",
              "      <td>Black</td>\n",
              "      <td>Male</td>\n",
              "      <td>0</td>\n",
              "      <td>0</td>\n",
              "      <td>40</td>\n",
              "      <td>United-States</td>\n",
              "      <td>&lt;=50K</td>\n",
              "    </tr>\n",
              "    <tr>\n",
              "      <th>4</th>\n",
              "      <td>28</td>\n",
              "      <td>Private</td>\n",
              "      <td>338409</td>\n",
              "      <td>Bachelors</td>\n",
              "      <td>13</td>\n",
              "      <td>Married-civ-spouse</td>\n",
              "      <td>Prof-specialty</td>\n",
              "      <td>Wife</td>\n",
              "      <td>Black</td>\n",
              "      <td>Female</td>\n",
              "      <td>0</td>\n",
              "      <td>0</td>\n",
              "      <td>40</td>\n",
              "      <td>Cuba</td>\n",
              "      <td>&lt;=50K</td>\n",
              "    </tr>\n",
              "  </tbody>\n",
              "</table>\n",
              "</div>\n",
              "      <button class=\"colab-df-convert\" onclick=\"convertToInteractive('df-bba5bff4-74d5-4e43-ae12-5a9622b6c845')\"\n",
              "              title=\"Convert this dataframe to an interactive table.\"\n",
              "              style=\"display:none;\">\n",
              "        \n",
              "  <svg xmlns=\"http://www.w3.org/2000/svg\" height=\"24px\"viewBox=\"0 0 24 24\"\n",
              "       width=\"24px\">\n",
              "    <path d=\"M0 0h24v24H0V0z\" fill=\"none\"/>\n",
              "    <path d=\"M18.56 5.44l.94 2.06.94-2.06 2.06-.94-2.06-.94-.94-2.06-.94 2.06-2.06.94zm-11 1L8.5 8.5l.94-2.06 2.06-.94-2.06-.94L8.5 2.5l-.94 2.06-2.06.94zm10 10l.94 2.06.94-2.06 2.06-.94-2.06-.94-.94-2.06-.94 2.06-2.06.94z\"/><path d=\"M17.41 7.96l-1.37-1.37c-.4-.4-.92-.59-1.43-.59-.52 0-1.04.2-1.43.59L10.3 9.45l-7.72 7.72c-.78.78-.78 2.05 0 2.83L4 21.41c.39.39.9.59 1.41.59.51 0 1.02-.2 1.41-.59l7.78-7.78 2.81-2.81c.8-.78.8-2.07 0-2.86zM5.41 20L4 18.59l7.72-7.72 1.47 1.35L5.41 20z\"/>\n",
              "  </svg>\n",
              "      </button>\n",
              "      \n",
              "  <style>\n",
              "    .colab-df-container {\n",
              "      display:flex;\n",
              "      flex-wrap:wrap;\n",
              "      gap: 12px;\n",
              "    }\n",
              "\n",
              "    .colab-df-convert {\n",
              "      background-color: #E8F0FE;\n",
              "      border: none;\n",
              "      border-radius: 50%;\n",
              "      cursor: pointer;\n",
              "      display: none;\n",
              "      fill: #1967D2;\n",
              "      height: 32px;\n",
              "      padding: 0 0 0 0;\n",
              "      width: 32px;\n",
              "    }\n",
              "\n",
              "    .colab-df-convert:hover {\n",
              "      background-color: #E2EBFA;\n",
              "      box-shadow: 0px 1px 2px rgba(60, 64, 67, 0.3), 0px 1px 3px 1px rgba(60, 64, 67, 0.15);\n",
              "      fill: #174EA6;\n",
              "    }\n",
              "\n",
              "    [theme=dark] .colab-df-convert {\n",
              "      background-color: #3B4455;\n",
              "      fill: #D2E3FC;\n",
              "    }\n",
              "\n",
              "    [theme=dark] .colab-df-convert:hover {\n",
              "      background-color: #434B5C;\n",
              "      box-shadow: 0px 1px 3px 1px rgba(0, 0, 0, 0.15);\n",
              "      filter: drop-shadow(0px 1px 2px rgba(0, 0, 0, 0.3));\n",
              "      fill: #FFFFFF;\n",
              "    }\n",
              "  </style>\n",
              "\n",
              "      <script>\n",
              "        const buttonEl =\n",
              "          document.querySelector('#df-bba5bff4-74d5-4e43-ae12-5a9622b6c845 button.colab-df-convert');\n",
              "        buttonEl.style.display =\n",
              "          google.colab.kernel.accessAllowed ? 'block' : 'none';\n",
              "\n",
              "        async function convertToInteractive(key) {\n",
              "          const element = document.querySelector('#df-bba5bff4-74d5-4e43-ae12-5a9622b6c845');\n",
              "          const dataTable =\n",
              "            await google.colab.kernel.invokeFunction('convertToInteractive',\n",
              "                                                     [key], {});\n",
              "          if (!dataTable) return;\n",
              "\n",
              "          const docLinkHtml = 'Like what you see? Visit the ' +\n",
              "            '<a target=\"_blank\" href=https://colab.research.google.com/notebooks/data_table.ipynb>data table notebook</a>'\n",
              "            + ' to learn more about interactive tables.';\n",
              "          element.innerHTML = '';\n",
              "          dataTable['output_type'] = 'display_data';\n",
              "          await google.colab.output.renderOutput(dataTable, element);\n",
              "          const docLink = document.createElement('div');\n",
              "          docLink.innerHTML = docLinkHtml;\n",
              "          element.appendChild(docLink);\n",
              "        }\n",
              "      </script>\n",
              "    </div>\n",
              "  </div>\n",
              "  "
            ]
          },
          "metadata": {},
          "execution_count": 2
        }
      ]
    },
    {
      "cell_type": "code",
      "source": [
        "df.info()"
      ],
      "metadata": {
        "colab": {
          "base_uri": "https://localhost:8080/"
        },
        "id": "vyyEjqdew7SR",
        "outputId": "74dc2c0d-93b9-4013-e5c1-d5df61b39a61"
      },
      "execution_count": 21,
      "outputs": [
        {
          "output_type": "stream",
          "name": "stdout",
          "text": [
            "<class 'pandas.core.frame.DataFrame'>\n",
            "RangeIndex: 32561 entries, 0 to 32560\n",
            "Data columns (total 15 columns):\n",
            " #   Column           Non-Null Count  Dtype \n",
            "---  ------           --------------  ----- \n",
            " 0   age              32561 non-null  int64 \n",
            " 1   workclass        32561 non-null  object\n",
            " 2   fnlwgt           32561 non-null  int64 \n",
            " 3   education        32561 non-null  object\n",
            " 4   educational-num  32561 non-null  int64 \n",
            " 5   marital-status   32561 non-null  object\n",
            " 6   occupation       32561 non-null  object\n",
            " 7   relationship     32561 non-null  object\n",
            " 8   race             32561 non-null  object\n",
            " 9   gender           32561 non-null  object\n",
            " 10  capital-gain     32561 non-null  int64 \n",
            " 11  capital-loss     32561 non-null  int64 \n",
            " 12  hours-per-week   32561 non-null  int64 \n",
            " 13  native-country   32561 non-null  object\n",
            " 14  income           32561 non-null  object\n",
            "dtypes: int64(6), object(9)\n",
            "memory usage: 3.7+ MB\n"
          ]
        }
      ]
    },
    {
      "cell_type": "code",
      "source": [
        "#1- How many men and women (sex feature) are represented in this dfset?\n",
        "\n",
        "print(df['gender'].value_counts())"
      ],
      "metadata": {
        "colab": {
          "base_uri": "https://localhost:8080/"
        },
        "id": "ll60HgbmgiSY",
        "outputId": "3a04cdb6-55c0-4d82-cb58-8b900fc5f62a"
      },
      "execution_count": 3,
      "outputs": [
        {
          "output_type": "stream",
          "name": "stdout",
          "text": [
            " Male      21790\n",
            " Female    10771\n",
            "Name: gender, dtype: int64\n"
          ]
        }
      ]
    },
    {
      "cell_type": "code",
      "source": [
        "# 2- What is the average age (age feature) of women?\n",
        "\n",
        "age = 0\n",
        "count = 0\n",
        "\n",
        "for i in range(0, len(df)):\n",
        "    if (df.iloc[i][9] == ' Female'):\n",
        "        age += df.iloc[i][0]\n",
        "        count += 1\n",
        "\n",
        "averageAge = age / count\n",
        "print(\"The average age of women is: \", averageAge)"
      ],
      "metadata": {
        "colab": {
          "base_uri": "https://localhost:8080/"
        },
        "id": "m4sc5OH9sJaQ",
        "outputId": "3d59595d-a0fd-4b4c-a06a-5f72e7c72ad3"
      },
      "execution_count": 8,
      "outputs": [
        {
          "output_type": "stream",
          "name": "stdout",
          "text": [
            "The average age of women is:  36.85823043357163\n"
          ]
        }
      ]
    },
    {
      "cell_type": "code",
      "source": [
        "# 3- What is the percentage of German citizens (native-country feature)?\n",
        "\n",
        "\n",
        "germanCitizens = 0\n",
        "\n",
        "for i in range(0, len(df)):\n",
        "    if (df.iloc[i][13] == ' Germany'):\n",
        "        germanCitizens += 1\n",
        "\n",
        "percentage = (germanCitizens / len(df)) * 100\n",
        "print(\"The percentage of German citizens is: \", percentage)"
      ],
      "metadata": {
        "colab": {
          "base_uri": "https://localhost:8080/"
        },
        "id": "Xa3GOPqfonCS",
        "outputId": "ce0f80ea-e743-4e78-9508-d59e6118fec3"
      },
      "execution_count": 9,
      "outputs": [
        {
          "output_type": "stream",
          "name": "stdout",
          "text": [
            "The percentage of German citizens is:  0.42074874850281013\n"
          ]
        }
      ]
    },
    {
      "cell_type": "code",
      "source": [
        "# 4- What are the mean and standard deviation of age for those who earn more than 50K per year (salary feature) and those who earn less than 50K per year?\n",
        "\n",
        "ageMoreThan = []\n",
        "ageLessThan = []\n",
        "\n",
        "for i in range(0, len(df)):\n",
        "    if (df.iloc[i][14] == ' >50K'):\n",
        "        ageMoreThan.append(df.iloc[i][0])\n",
        "    if (df.iloc[i][14] == ' <=50K'):\n",
        "        ageLessThan.append(df.iloc[i][0])\n",
        "        \n",
        "print(\"Mean age of people earning more than 50K per year is\", np.mean(ageMoreThan))\n",
        "print(\"Standard Deviation of age for people earning more than 50K per year is\", np.std(ageMoreThan))\n",
        "print()\n",
        "print(\"Mean age of people earning less than 50K per year is\", np.mean(ageLessThan))\n",
        "print(\"Standard Deviation of age for people earning less than 50K per year is\", np.std(ageLessThan))"
      ],
      "metadata": {
        "colab": {
          "base_uri": "https://localhost:8080/"
        },
        "id": "nTC76FyspLmR",
        "outputId": "67b69c3a-ccd0-4f85-fffc-b65fee85de1a"
      },
      "execution_count": 7,
      "outputs": [
        {
          "output_type": "stream",
          "name": "stdout",
          "text": [
            "Mean age of people earning more than 50K per year is 44.24984058155847\n",
            "Standard Deviation of age for people earning more than 50K per year is 10.51835692766163\n",
            "\n",
            "Mean age of people earning less than 50K per year is 36.78373786407767\n",
            "Standard Deviation of age for people earning less than 50K per year is 14.019804910115282\n"
          ]
        }
      ]
    },
    {
      "cell_type": "code",
      "source": [
        " # 5 - Is it true that people who earn more than 50K have at least a high school education?\n",
        " # (education – Bachelors, Prof-school, Assoc-acdm, Assoc-voc, Masters or Doctorate feature)\n",
        "\n",
        " bachelors = 0\n",
        "profSchool = 0\n",
        "assocAcdm = 0\n",
        "assocVoc = 0\n",
        "masters = 0\n",
        "doctorate = 0\n",
        "highSchool = 0\n",
        "someCollege = 0\n",
        "count = 0\n",
        "\n",
        "for i in range (0, len(df)):\n",
        "    if (df.iloc[i][14] == ' >50K'):\n",
        "        if (df.iloc[i][3] == ' Bachelors'):\n",
        "            bachelors += 1\n",
        "        elif (df.iloc[i][3] == ' Prof-school'):\n",
        "            profSchool += 1\n",
        "        elif (df.iloc[i][3] == ' Assoc-acdm'):\n",
        "            assocAcdm += 1\n",
        "        elif (df.iloc[i][3] == ' Assoc-voc'):\n",
        "            assocVoc += 1\n",
        "        elif (df.iloc[i][3] == ' Masters'):\n",
        "            masters += 1\n",
        "        elif (df.iloc[i][3] == ' Doctorate'):\n",
        "            doctorate += 1\n",
        "        elif (df.iloc[i][3] == ' HS-grad'):\n",
        "            highSchool += 1\n",
        "        elif (df.iloc[i][3] == ' Some-college'):\n",
        "            someCollege += 1\n",
        "        count += 1\n",
        "print(\"Number of people that earn more than 50K: \", count)\n",
        "print(\"Of which, the number of people with any education: \", bachelors + profSchool + assocAcdm + assocVoc + masters + doctorate + highSchool + someCollege)\n",
        "print(\"Of which, the number of people with education higher than high school: \", bachelors + profSchool + assocAcdm + assocVoc + masters + doctorate)\n",
        "print()\n",
        "print(\"So it is not true that people who earn more than 50K have at least high school education\")\n"
      ],
      "metadata": {
        "colab": {
          "base_uri": "https://localhost:8080/"
        },
        "id": "W3sr-2m6sw08",
        "outputId": "79aca944-3193-45db-e53e-deb2362b7da7"
      },
      "execution_count": 10,
      "outputs": [
        {
          "output_type": "stream",
          "name": "stdout",
          "text": [
            "Number of people that earn more than 50K:  7841\n",
            "Of which, the number of people with any education:  7597\n",
            "Of which, the number of people with education higher than high school:  4535\n",
            "\n",
            "So it is not true that people who earn more than 50K have at least high school education\n"
          ]
        }
      ]
    },
    {
      "cell_type": "code",
      "source": [
        "# 6- Display age statistics for each race (race feature) and each gender (sex feature). Use groupby() and describe(). \n",
        "# Find the maximum age of men of Amer-Indian-Eskimo race.\n",
        "\n",
        "racedf = df.iloc[:,[0,8]]\n",
        "genderdf = df.iloc[:,[0,9]]\n",
        "\n",
        "raceGroup = racedf.groupby('race')\n",
        "print(raceGroup.describe())\n",
        "\n",
        "genderGroup = genderdf.groupby('gender')\n",
        "print(genderGroup.describe())\n"
      ],
      "metadata": {
        "colab": {
          "base_uri": "https://localhost:8080/"
        },
        "id": "YHXjlRnLtvJc",
        "outputId": "17d18d66-9e15-408f-dd81-4a2e3da036b1"
      },
      "execution_count": 14,
      "outputs": [
        {
          "output_type": "stream",
          "name": "stdout",
          "text": [
            "                         age                                                \\\n",
            "                       count       mean        std   min   25%   50%   75%   \n",
            "race                                                                         \n",
            " Amer-Indian-Eskimo    311.0  37.173633  12.447130  17.0  28.0  35.0  45.5   \n",
            " Asian-Pac-Islander   1039.0  37.746872  12.825133  17.0  28.0  36.0  45.0   \n",
            " Black                3124.0  37.767926  12.759290  17.0  28.0  36.0  46.0   \n",
            " Other                 271.0  33.457565  11.538865  17.0  25.0  31.0  41.0   \n",
            " White               27816.0  38.769881  13.782306  17.0  28.0  37.0  48.0   \n",
            "\n",
            "                           \n",
            "                      max  \n",
            "race                       \n",
            " Amer-Indian-Eskimo  82.0  \n",
            " Asian-Pac-Islander  90.0  \n",
            " Black               90.0  \n",
            " Other               77.0  \n",
            " White               90.0  \n",
            "             age                                                    \n",
            "           count       mean        std   min   25%   50%   75%   max\n",
            "gender                                                              \n",
            " Female  10771.0  36.858230  14.013697  17.0  25.0  35.0  46.0  90.0\n",
            " Male    21790.0  39.433547  13.370630  17.0  29.0  38.0  48.0  90.0\n"
          ]
        }
      ]
    },
    {
      "cell_type": "code",
      "source": [],
      "metadata": {
        "id": "y4dO-Sgj3ccb"
      },
      "execution_count": null,
      "outputs": []
    }
  ]
}